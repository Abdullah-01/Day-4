{
 "cells": [
  {
   "cell_type": "markdown",
   "metadata": {
    "id": "E9Y5ss1ZYj3r"
   },
   "source": [
    "# Python_Lab_2.2\n"
   ]
  },
  {
   "cell_type": "markdown",
   "metadata": {
    "id": "Q1kAqc72Yj3t"
   },
   "source": [
    "### Task 1\n",
    "1. Write a program that prompts the user to enter two numbers and prints their division. Handle cases where the user enters non-numeric values or attempts to divide by zero using a try-except block.\n"
   ]
  },
  {
   "cell_type": "code",
   "execution_count": 44,
   "metadata": {
    "id": "H-xyoRTVYj3t"
   },
   "outputs": [
    {
     "name": "stdin",
     "output_type": "stream",
     "text": [
      "Enter your first number:  2\n",
      "Enter your second number:  2\n"
     ]
    },
    {
     "name": "stdout",
     "output_type": "stream",
     "text": [
      "The result is:  1.0\n"
     ]
    }
   ],
   "source": [
    "try:\n",
    "    user_input1 = float(input(\"Enter your first number: \"))\n",
    "    user_input2 = float(input(\"Enter your second number: \"))\n",
    "\n",
    "    result= user_input1/user_input2\n",
    "    print(\"The result is: \", result)\n",
    "except ValueError:\n",
    "        print(\"Invalid input, Please enter numbers only\")\n",
    "    \n",
    "except ZeroDivisionError:\n",
    "        print(\"Invalid input, denomintor must be greater than 0\")"
   ]
  },
  {
   "cell_type": "markdown",
   "metadata": {
    "id": "CPWcDSC_Yj3u"
   },
   "source": [
    "### Task 2\n",
    "- Use \"Random\" library to do the following:\n",
    "    1. Create a list of random numbers using list comprehension.\n",
    "    2. Create a list of squares of the even numbers from random numbers using list comprehension.\n",
    "    3. Create a list of tuples (number, square) for random numbers using list comprehension."
   ]
  },
  {
   "cell_type": "code",
   "execution_count": 155,
   "metadata": {
    "id": "Yfq-i6CeYj3u"
   },
   "outputs": [
    {
     "name": "stdout",
     "output_type": "stream",
     "text": [
      "random 5 numbers in the list:  [18, 44, 56, 83, 93, 88, 96, 9, 63, 73, 14, 32, 23, 87, 96] \n",
      "\n",
      "even number square list:  [100, 36, 9604, 4, 4] \n",
      "\n",
      "list of tuples (number , square):  [(10, 100), (6, 36), (37, 1369), (17, 289), (11, 121), (98, 9604), (2, 4), (2, 4)]\n"
     ]
    }
   ],
   "source": [
    "import random\n",
    "\n",
    "#Q1\n",
    "random_num = [random.randint(1,100) for _ in range(8)] \n",
    "print(\"random 5 numbers in the list: \",random_list,\"\\n\")\n",
    "\n",
    "#Q2 \n",
    "sqr_list = [x**2 for x in random_num if x%2 == 0 ]\n",
    "print(\"even numbers square list: \",sqr_list ,\"\\n\")\n",
    "\n",
    "#Q3\n",
    "list_of_tuples_sqr = [(x , x**2) for x in random_num ] \n",
    "print(\"list of tuples (number , square): \", list_of_tuples_sqr)\n",
    "\n"
   ]
  },
  {
   "cell_type": "markdown",
   "metadata": {
    "id": "jYdOq46NYj3u"
   },
   "source": [
    "### Task 3\n",
    "- Create a dictionary where the keys are numbers from 1 to 5 and the values are list of their squares and cubes.\n",
    "\n",
    "  - **hint**: use dictionary of list comprehension.\n",
    "\n",
    "- Create a dictionary from two lists (one with keys and one with values) using dictionary comprehension.\n",
    "\n"
   ]
  },
  {
   "cell_type": "code",
   "execution_count": 169,
   "metadata": {
    "id": "IEnsiNmCYj3u"
   },
   "outputs": [
    {
     "name": "stdout",
     "output_type": "stream",
     "text": [
      "Dictionary of number and square:  {1: 1, 2: 4, 3: 9, 4: 16, 5: 25} \n",
      "\n",
      "Dictionary of two list:  {1: 'one', 2: 'two', 3: 'three', 4: 'four', 5: 'five'}\n"
     ]
    }
   ],
   "source": [
    "#Q1\n",
    "dict1 = {i : i ** 2 for i in range(1,6)} \n",
    "print(\"Dictionary of number and square: \",dict1, \"\\n\")\n",
    "\n",
    "#Q2\n",
    "lst1 = [1,2,3,4,5]\n",
    "lst2 = [\"one\", \"two\", \"three\", \"four\", \"five\"]\n",
    "dict2 = {lst1[i] : lst2[i] for i in range(len(lst1))}\n",
    "\n",
    "print(\"Dictionary of two list: \", dict2)"
   ]
  },
  {
   "cell_type": "markdown",
   "metadata": {
    "id": "6T9TCQ8SYj3v"
   },
   "source": [
    "### Task 4\n",
    "- Given a dictionary where keys are student names and values are lists of their scores, write a function that updates the scores of students who have achieved a perfect score (100) by adding a bonus of 5 points to each score. Use dictionary comprehension to achieve this.\n",
    "\n",
    "    - Implement the function add_bonus_to_perfect_scores(student_scores) that adds a bonus of 5 points to each score of students who have achieved a perfect score (100)."
   ]
  },
  {
   "cell_type": "code",
   "execution_count": 210,
   "metadata": {
    "id": "T3R_VsQpYj3v"
   },
   "outputs": [
    {
     "name": "stdout",
     "output_type": "stream",
     "text": [
      "Updated Scores of student:  {'Abdullah': [105, 90, 80, 105], 'Khaled': [85, 105, 75, 90], 'Fahad': [105, 105, 95, 105], 'Sami': [70, 60, 80, 90]}\n"
     ]
    }
   ],
   "source": [
    "student_scores = {\n",
    "    'Abdullah': [100, 90, 80, 100],\n",
    "    'Khaled': [85, 100, 75, 90],\n",
    "    'Fahad': [100, 100, 95, 100],\n",
    "    'Sami': [70, 60, 80 ,90]\n",
    "}\n",
    "\n",
    "def add_bonus_to_perfect_scores(std_scores):\n",
    " \n",
    "    return  {student: [x + 5 if x == 100 else x for x in scores] for student, scores in std_scores.items()}\n",
    "    \n",
    "     \n",
    "\n",
    "\n",
    "\n",
    "print(\"Updated Scores of student: \",add_bonus_to_perfect_scores(student_scores))\n"
   ]
  }
 ],
 "metadata": {
  "colab": {
   "provenance": []
  },
  "kernelspec": {
   "display_name": "Python 3 (ipykernel)",
   "language": "python",
   "name": "python3"
  },
  "language_info": {
   "codemirror_mode": {
    "name": "ipython",
    "version": 3
   },
   "file_extension": ".py",
   "mimetype": "text/x-python",
   "name": "python",
   "nbconvert_exporter": "python",
   "pygments_lexer": "ipython3",
   "version": "3.12.4"
  }
 },
 "nbformat": 4,
 "nbformat_minor": 4
}
