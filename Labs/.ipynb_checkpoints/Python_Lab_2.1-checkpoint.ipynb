{
 "cells": [
  {
   "cell_type": "markdown",
   "metadata": {
    "id": "x7F-mxeubDUG"
   },
   "source": [
    "# Python_Lab_2.1\n"
   ]
  },
  {
   "cell_type": "markdown",
   "metadata": {
    "id": "14c6Hn1BbDUH"
   },
   "source": [
    "### Task 1\n",
    "1. Write a function named is_prime that takes a number as a parameter and returns True if the number is prime and False otherwise. Print whether the number 29 is prime."
   ]
  },
  {
   "cell_type": "code",
   "execution_count": 61,
   "metadata": {
    "id": "5e_MZEN0bDUI"
   },
   "outputs": [
    {
     "name": "stdout",
     "output_type": "stream",
     "text": [
      "the number is prime number\n"
     ]
    }
   ],
   "source": [
    "def is_prime(x):\n",
    "    if x > 1:\n",
    "        for i in range (2, int(x ** 0.5) + 1):\n",
    "            if(x % i) == 0:\n",
    "                return False\n",
    "                \n",
    "        else:\n",
    "            return True\n",
    "            \n",
    "    else:\n",
    "        return False\n",
    "  \n",
    "if(is_prime(29)):\n",
    "    print(\"The number is prime number\")\n",
    "else:\n",
    "    print(\"The number is not prime number\")"
   ]
  },
  {
   "cell_type": "markdown",
   "metadata": {
    "id": "2zKG8ZcybDUI"
   },
   "source": [
    "### Task 2\n",
    "1. Create a list of 10 numbers and sort them in descending order using the sort() function.\n",
    "2. Use the len() function to print the length of the sorted list.\n",
    "3. Use the zip() function to combine three lists (names, ages, and cities) into a list of tuples.\n",
    "4. Use the range() function to create a list of even numbers from 2 to 20 and print the list."
   ]
  },
  {
   "cell_type": "code",
   "execution_count": 147,
   "metadata": {
    "id": "yyoe__M_bDUI"
   },
   "outputs": [
    {
     "name": "stdout",
     "output_type": "stream",
     "text": [
      "Sorted list:  [44, 43, 12, 10, 9, 8, 6, 3, 2, 2] \n",
      "\n",
      "The length of sorted list is:  10 \n",
      "\n",
      "Combined 3 lists:  [('Saleh', 23, 'Riyadh'), ('Fahad', 42, 'Jeddah'), ('Khaled', 32, 'Makkah'), ('Bader', 22, 'AlMadinah')]\n"
     ]
    }
   ],
   "source": [
    "#Q1\n",
    "srt = [10,12,2,2,3,43,44,6,8,9]\n",
    "srt.sort(reverse=True)\n",
    "\n",
    "print(\"Sorted list: \",srt , \"\\n\")\n",
    "\n",
    "#Q2\n",
    "print(\"The length of sorted list is: \" , len(srt) , \"\\n\")\n",
    "\n",
    "#Q3\n",
    "names = [\"Saleh\" , \"Fahad\", \"Khaled\", \"Bader\"]\n",
    "ages = [23 ,42 ,32 ,22]\n",
    "cities = [\"Riyadh\" , \"Jeddah\" , \"Makkah\" , \"AlMadinah\"]\n",
    "\n",
    "combined_list = list(zip(names, ages , cities))\n",
    "\n",
    "print(\"Combined 3 lists: \",combined_list)\n"
   ]
  },
  {
   "cell_type": "markdown",
   "metadata": {
    "id": "aStW5p7AbDUI"
   },
   "source": [
    "### Task 3\n",
    "Build a phone book program that receives the phone number, and returns the name of the owner.\n",
    "You can follow the table below:\n",
    "\n",
    "| Name     | Number     |\n",
    "| -------- | ---------- |\n",
    "| Amal     | 1111111111 |\n",
    "| Mohammed | 2222222222 |\n",
    "| Khadijah | 3333333333 |\n",
    "| Abdullah | 4444444444 |\n",
    "| Rawan    | 5555555555 |\n",
    "| Faisal   | 6666666666 |\n",
    "| Layla    | 7777777777 |\n",
    "\n",
    "- If the number exists, print the owner. Otherwise, print \"Sorry, the number is not found\".\n",
    "- If the number is less or more than 10 numbers, print \"This is invalid number\".\n",
    "- If the number contains letters or symbols, print \"This is invalid number\".\n"
   ]
  },
  {
   "cell_type": "code",
   "execution_count": 139,
   "metadata": {
    "id": "kvXmjUe-bDUJ"
   },
   "outputs": [
    {
     "name": "stdin",
     "output_type": "stream",
     "text": [
      "Enter the phone number:  1111111111\n"
     ]
    },
    {
     "name": "stdout",
     "output_type": "stream",
     "text": [
      "Owner:  Amal\n"
     ]
    }
   ],
   "source": [
    "phone_book\n",
    "\n",
    "def owner(number):\n",
    "    \n",
    "    if len(number) != 10 or not number.isdigit():\n",
    "        print(\"This is invalid number\")\n",
    "        \n",
    "    else:\n",
    "        for name, num in phone_book.items():\n",
    "            if num == number:\n",
    "                print(\"Owner: \", name)\n",
    "        \n",
    "                \n",
    "number = input(\"Enter the phone number: \")\n",
    "owner(number)\n",
    "    "
   ]
  },
  {
   "cell_type": "markdown",
   "metadata": {
    "id": "exLHQ28nbDUJ"
   },
   "source": [
    "### Task 4\n",
    "- Given the following list : [5, 4, 17, 19, 30, 2, 7, 10, 45]\n",
    "    1. Use a lambda function to filter out only the odd numbers.\n",
    "    2. Print the new list of odd numbers."
   ]
  },
  {
   "cell_type": "code",
   "execution_count": 151,
   "metadata": {
    "id": "64SUsh1cbDUJ"
   },
   "outputs": [
    {
     "name": "stdout",
     "output_type": "stream",
     "text": [
      "The odd numbers are:  [5, 17, 19, 7, 45]\n"
     ]
    }
   ],
   "source": [
    "lst = [5, 4, 17, 19, 30, 2, 7, 10, 45]\n",
    "\n",
    "odd = list(filter(lambda i : i % 2 != 0 , lst))\n",
    "\n",
    "print(\"The odd numbers are: \",odd)\n"
   ]
  },
  {
   "cell_type": "code",
   "execution_count": null,
   "metadata": {},
   "outputs": [],
   "source": []
  }
 ],
 "metadata": {
  "colab": {
   "provenance": []
  },
  "kernelspec": {
   "display_name": "Python 3 (ipykernel)",
   "language": "python",
   "name": "python3"
  },
  "language_info": {
   "codemirror_mode": {
    "name": "ipython",
    "version": 3
   },
   "file_extension": ".py",
   "mimetype": "text/x-python",
   "name": "python",
   "nbconvert_exporter": "python",
   "pygments_lexer": "ipython3",
   "version": "3.12.4"
  }
 },
 "nbformat": 4,
 "nbformat_minor": 4
}
